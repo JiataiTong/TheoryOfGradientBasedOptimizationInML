{
 "cells": [
  {
   "cell_type": "markdown",
   "metadata": {},
   "source": [
    "# Homework 2\n"
   ]
  },
  {
   "cell_type": "markdown",
   "metadata": {},
   "source": [
    "## Experiment 1"
   ]
  },
  {
   "cell_type": "markdown",
   "metadata": {},
   "source": [
    "### Download MNIST"
   ]
  },
  {
   "cell_type": "code",
   "execution_count": 1,
   "metadata": {},
   "outputs": [],
   "source": [
    "\n",
    "from torchvision import transforms, datasets\n",
    "\n",
    "train_set = datasets.MNIST('./', download=True,\n",
    "transform=transforms.Compose([\n",
    "transforms.ToTensor(),\n",
    "]), train=True)\n",
    "\n",
    "test_set = datasets.MNIST('./', download=True,\n",
    "transform=transforms.Compose([\n",
    "transforms.ToTensor(),\n",
    "]), train=False)\n",
    "\n"
   ]
  },
  {
   "cell_type": "markdown",
   "metadata": {},
   "source": [
    "### Hyperparameters"
   ]
  },
  {
   "cell_type": "code",
   "execution_count": 2,
   "metadata": {},
   "outputs": [],
   "source": [
    "train_batch_size = 100\n",
    "test_batch_size = 10000\n",
    "epoch_num = 10\n",
    "lr = 1"
   ]
  },
  {
   "cell_type": "markdown",
   "metadata": {},
   "source": [
    "### Construct DataLoader"
   ]
  },
  {
   "cell_type": "code",
   "execution_count": 3,
   "metadata": {},
   "outputs": [
    {
     "name": "stdout",
     "output_type": "stream",
     "text": [
      "Using device: cuda\n",
      "2.5.1\n",
      "12.4\n",
      "True\n"
     ]
    }
   ],
   "source": [
    "import torch\n",
    "from torch.utils.data import DataLoader\n",
    "\n",
    "device = torch.device('cuda')\n",
    "print(\"Using device:\", device)\n",
    "print(torch.__version__)\n",
    "print(torch.version.cuda)              # Should not be None\n",
    "print(torch.cuda.is_available())       # Should be True if everything is correct\n",
    "\n",
    "train_loader = DataLoader(train_set, batch_size=train_batch_size, shuffle=True)\n",
    "test_loader = DataLoader(test_set, batch_size=test_batch_size, shuffle=False)\n",
    "\n"
   ]
  },
  {
   "cell_type": "markdown",
   "metadata": {},
   "source": [
    "### Initialize the parameters\n",
    "1. Weight for FC1: 784 x 100\n",
    "2. Bias for FC1： 100 x 1\n",
    "3. Weight for FC2: 100 x 10\n",
    "4. Bias for FC2: 10 x 1"
   ]
  },
  {
   "cell_type": "code",
   "execution_count": 4,
   "metadata": {},
   "outputs": [],
   "source": [
    "w_FC1 = torch.randn((784, 100), requires_grad=True, device=device)\n",
    "bias_FC1 = torch.randn(100, requires_grad=True, device=device)\n",
    "w_FC2 = torch.randn((100, 10), requires_grad=True, device=device)\n",
    "bias_FC2 = torch.randn(10, requires_grad=True, device=device)"
   ]
  },
  {
   "cell_type": "markdown",
   "metadata": {},
   "source": [
    "### Build The Network"
   ]
  },
  {
   "cell_type": "code",
   "execution_count": 6,
   "metadata": {},
   "outputs": [
    {
     "name": "stdout",
     "output_type": "stream",
     "text": [
      "Epoch 1 | Test Loss: 90.72958374023438, Test Accuracy: 0.1089\n",
      "Epoch 2 | Test Loss: 0.6028609275817871, Test Accuracy: 0.8286\n",
      "Epoch 3 | Test Loss: 0.5647878646850586, Test Accuracy: 0.8798\n",
      "Epoch 4 | Test Loss: 0.4246300756931305, Test Accuracy: 0.8942\n",
      "Epoch 5 | Test Loss: 0.3579792380332947, Test Accuracy: 0.9125\n",
      "Epoch 6 | Test Loss: 0.3535684645175934, Test Accuracy: 0.9066\n",
      "Epoch 7 | Test Loss: 0.3176041543483734, Test Accuracy: 0.9187\n",
      "Epoch 8 | Test Loss: 0.3208352327346802, Test Accuracy: 0.9181\n",
      "Epoch 9 | Test Loss: 0.28810814023017883, Test Accuracy: 0.9267\n",
      "Epoch 10 | Test Loss: 0.2783640921115875, Test Accuracy: 0.9299\n"
     ]
    }
   ],
   "source": [
    "\n",
    "losses = []\n",
    "accuracies = []\n",
    "\n",
    "for epoch in range(epoch_num):\n",
    "    # Compute the test loss and accuracy in the beginning of each epoch\n",
    "    test_loss_total = 0.0\n",
    "    correct_predictions = 0\n",
    "    total_samples = 0\n",
    "\n",
    "    with torch.no_grad():\n",
    "        for test_data, test_targets in test_loader:\n",
    "            # Move the tensors to GPU\n",
    "            test_data = test_data.to(device)\n",
    "            test_targets = test_targets.to(device)\n",
    "\n",
    "\n",
    "            flatten_test_data = torch.flatten(test_data, start_dim=1)\n",
    "            g_FC1_test = flatten_test_data @ w_FC1 + bias_FC1\n",
    "            h_FC1_test = torch.maximum(g_FC1_test, torch.tensor(0.0, device=device))\n",
    "            g_FC2_test = h_FC1_test @ w_FC2 + bias_FC2\n",
    "\n",
    "            # Compute the loss\n",
    "            cross_entropy_loss = torch.nn.CrossEntropyLoss()\n",
    "            loss = cross_entropy_loss(g_FC2_test, test_targets)\n",
    "            test_loss_total += loss.item()\n",
    "\n",
    "            # Compute the accuracy\n",
    "            predictions = torch.argmax(g_FC2_test, dim=1)\n",
    "            correct_predictions += (predictions == test_targets).sum().item()\n",
    "            total_samples += test_targets.size(0)\n",
    "\n",
    "    avg_test_loss = test_loss_total / len(test_loader) # average loss for one batch\n",
    "    accuracy = correct_predictions/total_samples\n",
    "\n",
    "    print(f'Epoch {epoch + 1} | Test Loss: {avg_test_loss}, Test Accuracy: {accuracy}')\n",
    "\n",
    "    losses.append(avg_test_loss)\n",
    "    accuracies.append(accuracy)\n",
    "\n",
    "    # Training\n",
    "    for batch_data, batch_targets in train_loader:\n",
    "\n",
    "        # Move the batch to GPU\n",
    "        batch_data = batch_data.to(device)\n",
    "        batch_targets = batch_targets.to(device)\n",
    "\n",
    "\n",
    "        # Initialize the grad\n",
    "        w_FC1.grad = None\n",
    "        bias_FC1.grad = None\n",
    "        w_FC2.grad = None\n",
    "        bias_FC2.grad = None\n",
    "\n",
    "        # Forward Propagate\n",
    "        flatten_batch_data = torch.flatten(batch_data, start_dim=1)\n",
    "        g_FC1 = flatten_batch_data @ w_FC1 + bias_FC1 # Fully Connect Layer 1\n",
    "        # print(g_FC1.shape)\n",
    "        h_FC1 = torch.maximum(g_FC1, torch.tensor(0.0, device=device)) # ReLU 1\n",
    "        g_FC2 = h_FC1 @ w_FC2 + bias_FC2 # Fully Connect Layer 2\n",
    "\n",
    "        # Loss computing\n",
    "        cross_entropy_loss = torch.nn.CrossEntropyLoss()\n",
    "        input = g_FC2\n",
    "        target = batch_targets\n",
    "        loss = cross_entropy_loss(input, target)\n",
    "        loss.backward()\n",
    "\n",
    "        # Back Propagate\n",
    "        with torch.no_grad():\n",
    "                w_FC1 -= lr * w_FC1.grad\n",
    "                bias_FC1 -= lr * bias_FC1.grad\n",
    "                w_FC2 -= lr * w_FC2.grad\n",
    "                bias_FC2 -= lr * bias_FC2.grad\n",
    "\n"
   ]
  },
  {
   "cell_type": "markdown",
   "metadata": {},
   "source": [
    "### Plot the graphs"
   ]
  },
  {
   "cell_type": "code",
   "execution_count": 7,
   "metadata": {},
   "outputs": [
    {
     "data": {
      "image/png": "[encoded data removed]",
      "text/plain": [
       "<Figure size 1200x500 with 2 Axes>"
      ]
     },
     "metadata": {},
     "output_type": "display_data"
    }
   ],
   "source": [
    "import matplotlib.pyplot as plt\n",
    "\n",
    "epochs = range(1, epoch_num + 1)\n",
    "\n",
    "plt.figure(figsize=(12, 5))\n",
    "\n",
    "# 1) Plot the test loss\n",
    "plt.subplot(1, 2, 1)\n",
    "plt.plot(epochs, losses, 'r-o', label='Test Loss')\n",
    "plt.title('Test Loss')\n",
    "plt.xlabel('Epoch')\n",
    "plt.ylabel('Loss')\n",
    "plt.legend()\n",
    "\n",
    "# 2) Plot the test accuracy\n",
    "plt.subplot(1, 2, 2)\n",
    "plt.plot(epochs, accuracies, 'b-o', label='Test Accuracy')\n",
    "plt.title('Test Accuracy')\n",
    "plt.xlabel('Epoch')\n",
    "plt.ylabel('Accuracy')\n",
    "plt.legend()\n",
    "\n",
    "plt.tight_layout()\n",
    "plt.show()"
   ]
  },
  {
   "cell_type": "markdown",
   "metadata": {},
   "source": [
    "Some small experiments on pytorch tensors"
   ]
  },
  {
   "cell_type": "code",
   "execution_count": 29,
   "metadata": {},
   "outputs": [
    {
     "name": "stdout",
     "output_type": "stream",
     "text": [
      "tensor([-0.5948,  1.3363, -0.8125])\n",
      "tensor([[0.4052, 2.3363, 0.1875],\n",
      "        [1.4052, 3.3363, 1.1875]])\n"
     ]
    }
   ],
   "source": [
    "# Test the broadcast\n",
    "t = torch.tensor([[1, 1, 1],[2, 2, 2]])\n",
    "b = torch.randn(3)\n",
    "print(b)\n",
    "print(t+b)\n",
    "\n"
   ]
  },
  {
   "cell_type": "markdown",
   "metadata": {},
   "source": [
    "## Experiment 2\n",
    "10 FC layers"
   ]
  },
  {
   "cell_type": "code",
   "execution_count": 1,
   "metadata": {},
   "outputs": [],
   "source": [
    "train_batch_size = 100\n",
    "test_batch_size = 10000\n",
    "epoch_num = 10\n",
    "lr = 5e-8\n",
    "num_hidden_layers = 8\n",
    "seed = 100"
   ]
  },
  {
   "cell_type": "code",
   "execution_count": 2,
   "metadata": {},
   "outputs": [
    {
     "name": "stdout",
     "output_type": "stream",
     "text": [
      "Using device: cuda\n",
      "2.5.1\n"
     ]
    }
   ],
   "source": [
    "from torchvision import transforms, datasets\n",
    "\n",
    "train_set = datasets.MNIST('./', download=True,\n",
    "transform=transforms.Compose([\n",
    "transforms.ToTensor(),\n",
    "]), train=True)\n",
    "\n",
    "test_set = datasets.MNIST('./', download=True,\n",
    "transform=transforms.Compose([\n",
    "transforms.ToTensor(),\n",
    "]), train=False)\n",
    "\n",
    "\n",
    "import torch\n",
    "from torch.utils.data import DataLoader\n",
    "\n",
    "torch.manual_seed(seed)\n",
    "device = torch.device('cuda')\n",
    "print(\"Using device:\", device)\n",
    "print(torch.__version__)\n",
    "\n",
    "train_loader = DataLoader(train_set, batch_size=train_batch_size, shuffle=True)\n",
    "test_loader = DataLoader(test_set, batch_size=test_batch_size, shuffle=False)\n",
    "\n",
    "\n",
    "w_FC = []\n",
    "bias_FC = []\n",
    "\n",
    "w_FC.append(torch.randn((784, 100), requires_grad=True, device=device))\n",
    "bias_FC.append(torch.randn(100, requires_grad=True, device=device))\n",
    "\n",
    "for _ in range(num_hidden_layers):\n",
    "    w_FC.append(torch.randn((100, 100), requires_grad=True, device=device))\n",
    "    bias_FC.append(torch.randn(100, requires_grad=True, device=device))\n",
    "\n",
    "w_FC.append(torch.randn((100, 10), requires_grad=True, device=device))\n",
    "bias_FC.append(torch.randn(10, requires_grad=True, device=device))\n"
   ]
  },
  {
   "cell_type": "code",
   "execution_count": 3,
   "metadata": {},
   "outputs": [],
   "source": [
    "def nn_forward(input, weight_list, bias_list):\n",
    "    g = input @ weight_list[0] + bias_list[0]\n",
    "    for i in range(1, len(weight_list)):\n",
    "        h = torch.maximum(g, torch.tensor(0.0, device=device))\n",
    "        g = h @ weight_list[i] + bias_list[i]\n",
    "    return g"
   ]
  },
  {
   "cell_type": "code",
   "execution_count": 4,
   "metadata": {},
   "outputs": [
    {
     "name": "stdout",
     "output_type": "stream",
     "text": [
      "566166464.0\n",
      "Epoch 1 | Test Loss: 566166464.0, Test Accuracy: 0.0524\n",
      "140014.28125\n",
      "Epoch 2 | Test Loss: 140014.28125, Test Accuracy: 0.23\n",
      "96449.4375\n",
      "Epoch 3 | Test Loss: 96449.4375, Test Accuracy: 0.2341\n",
      "39679.48828125\n",
      "Epoch 4 | Test Loss: 39679.48828125, Test Accuracy: 0.2563\n",
      "29210.5625\n",
      "Epoch 5 | Test Loss: 29210.5625, Test Accuracy: 0.2466\n",
      "26146.712890625\n",
      "Epoch 6 | Test Loss: 26146.712890625, Test Accuracy: 0.2268\n",
      "18055.314453125\n",
      "Epoch 7 | Test Loss: 18055.314453125, Test Accuracy: 0.2604\n",
      "15762.263671875\n",
      "Epoch 8 | Test Loss: 15762.263671875, Test Accuracy: 0.2513\n",
      "20376.26953125\n",
      "Epoch 9 | Test Loss: 20376.26953125, Test Accuracy: 0.1936\n",
      "14753.833984375\n",
      "Epoch 10 | Test Loss: 14753.833984375, Test Accuracy: 0.206\n"
     ]
    }
   ],
   "source": [
    "losses = []\n",
    "accuracies = []\n",
    "\n",
    "for epoch in range(epoch_num):\n",
    "    # Compute the test loss and accuracy in the beginning of each epoch\n",
    "    test_loss_total = 0.0\n",
    "    correct_predictions = 0\n",
    "    total_samples = 0\n",
    "\n",
    "    with torch.no_grad():\n",
    "        for test_data, test_targets in test_loader:\n",
    "            # Move the tensors to GPU\n",
    "            test_data = test_data.to(device)\n",
    "            test_targets = test_targets.to(device)\n",
    "\n",
    "            flatten_test_data = torch.flatten(test_data, start_dim=1)\n",
    "            test_res = nn_forward(flatten_test_data, w_FC, bias_FC)\n",
    "\n",
    "            # Compute the loss\n",
    "            cross_entropy_loss = torch.nn.CrossEntropyLoss()\n",
    "            loss = cross_entropy_loss(test_res, test_targets)\n",
    "            test_loss_total += loss.item()\n",
    "            print(loss.item())\n",
    "\n",
    "            # Compute the accuracy\n",
    "            predictions = torch.argmax(test_res, dim=1)\n",
    "            correct_predictions += (predictions == test_targets).sum().item()\n",
    "            total_samples += test_targets.size(0)\n",
    "\n",
    "    avg_test_loss = test_loss_total / len(test_loader) # average loss for one batch\n",
    "    accuracy = correct_predictions/total_samples\n",
    "\n",
    "    print(f'Epoch {epoch + 1} | Test Loss: {avg_test_loss}, Test Accuracy: {accuracy}')\n",
    "\n",
    "    losses.append(avg_test_loss)\n",
    "    accuracies.append(accuracy)\n",
    "\n",
    "    # Training\n",
    "    for batch_data, batch_targets in train_loader:\n",
    "\n",
    "        # Move the batch to GPU\n",
    "        batch_data = batch_data.to(device)\n",
    "        batch_targets = batch_targets.to(device)\n",
    "\n",
    "        # Initialize the grad\n",
    "        for w in w_FC:\n",
    "            w.grad = None\n",
    "        for b in bias_FC:\n",
    "            b.grad = None\n",
    "\n",
    "        # Forward Propagate\n",
    "        flatten_batch_data = torch.flatten(batch_data, start_dim=1)\n",
    "        output = nn_forward(flatten_batch_data, w_FC, bias_FC)\n",
    "\n",
    "        # Loss computing\n",
    "        cross_entropy_loss = torch.nn.CrossEntropyLoss()\n",
    "        target = batch_targets\n",
    "        loss = cross_entropy_loss(output, target)\n",
    "        loss.backward()\n",
    "\n",
    "        # Back Propagate\n",
    "        with torch.no_grad():\n",
    "            for w in w_FC:\n",
    "                w -= lr * w.grad\n",
    "            for b in bias_FC:\n",
    "                b -= lr * b.grad\n",
    "                \n"
   ]
  },
  {
   "cell_type": "code",
   "execution_count": 7,
   "metadata": {},
   "outputs": [
    {
     "data": {
      "image/png": "[encoded data removed]",
      "text/plain": [
       "<Figure size 1200x500 with 2 Axes>"
      ]
     },
     "metadata": {},
     "output_type": "display_data"
    }
   ],
   "source": [
    "import matplotlib.pyplot as plt\n",
    "\n",
    "epochs = range(1, epoch_num + 1)\n",
    "\n",
    "plt.figure(figsize=(12, 5))\n",
    "\n",
    "# print(losses)\n",
    "\n",
    "# 1) Plot the test loss\n",
    "plt.subplot(1, 2, 1)\n",
    "plt.plot(epochs, losses, 'r-o', label='Test Loss')\n",
    "plt.title('Test Loss')\n",
    "plt.xlabel('Epoch')\n",
    "plt.ylabel('Loss')\n",
    "plt.legend()\n",
    "\n",
    "# 2) Plot the test accuracy\n",
    "plt.subplot(1, 2, 2)\n",
    "plt.plot(epochs, accuracies, 'b-o', label='Test Accuracy')\n",
    "plt.title('Test Accuracy')\n",
    "plt.xlabel('Epoch')\n",
    "plt.ylabel('Accuracy')\n",
    "plt.legend()\n",
    "\n",
    "plt.tight_layout()\n",
    "plt.show()"
   ]
  },
  {
   "cell_type": "markdown",
   "metadata": {},
   "source": [
    "Since it is hard to find a good learning rate for this model, apply Kaiming initialization in the next few blocks."
   ]
  },
  {
   "cell_type": "markdown",
   "metadata": {},
   "source": [
    "### Hyperparameters"
   ]
  },
  {
   "cell_type": "code",
   "execution_count": 44,
   "metadata": {},
   "outputs": [],
   "source": [
    "train_batch_size = 100\n",
    "test_batch_size = 10000\n",
    "epoch_num = 10\n",
    "lr = 0.01\n",
    "num_hidden_layers = 8"
   ]
  },
  {
   "cell_type": "code",
   "execution_count": null,
   "metadata": {},
   "outputs": [
    {
     "name": "stdout",
     "output_type": "stream",
     "text": [
      "Using device: cuda\n",
      "2.5.1\n"
     ]
    }
   ],
   "source": [
    "from torchvision import transforms, datasets\n",
    "\n",
    "train_set = datasets.MNIST('./', download=True,\n",
    "transform=transforms.Compose([\n",
    "transforms.ToTensor(),\n",
    "]), train=True)\n",
    "\n",
    "test_set = datasets.MNIST('./', download=True,\n",
    "transform=transforms.Compose([\n",
    "transforms.ToTensor(),\n",
    "]), train=False)\n",
    "\n",
    "\n",
    "import torch\n",
    "from torch.utils.data import DataLoader\n",
    "\n",
    "device = torch.device('cuda')\n",
    "print(\"Using device:\", device)\n",
    "print(torch.__version__)\n",
    "\n",
    "train_loader = DataLoader(train_set, batch_size=train_batch_size, shuffle=True)\n",
    "test_loader = DataLoader(test_set, batch_size=test_batch_size, shuffle=False)\n",
    "\n",
    "\n",
    "w_FC = []\n",
    "bias_FC = []\n",
    "\n",
    "w_FC.append(torch.randn((784, 100), requires_grad=True, device=device))\n",
    "bias_FC.append(torch.randn(100, requires_grad=True, device=device))\n",
    "\n",
    "for _ in range(num_hidden_layers):\n",
    "    w_FC.append(torch.randn((100, 100), requires_grad=True, device=device))\n",
    "    bias_FC.append(torch.randn(100, requires_grad=True, device=device))\n",
    "\n",
    "w_FC.append(torch.randn((100, 10), requires_grad=True, device=device))\n",
    "bias_FC.append(torch.randn(10, requires_grad=True, device=device))\n",
    "\n",
    "\n",
    "# To solve the explosion of the cross entropy loss\n",
    "for w in w_FC:\n",
    "    torch.nn.init.kaiming_normal_(w, a=0, nonlinearity='relu') # If not using this, the loss function will explode.\n",
    "for b in bias_FC:\n",
    "    b.data.fill_(0)\n"
   ]
  },
  {
   "cell_type": "markdown",
   "metadata": {},
   "source": [
    "### Define a feedforward function for FC"
   ]
  },
  {
   "cell_type": "code",
   "execution_count": 46,
   "metadata": {},
   "outputs": [],
   "source": [
    "# def fc_forward(input, weight, bias):\n",
    "#     return input @ weight + bias\n",
    "\n",
    "def nn_forward(input, weight_list, bias_list):\n",
    "    g = input @ weight_list[0] + bias_list[0]\n",
    "    for i in range(1, len(weight_list)):\n",
    "        h = torch.maximum(g, torch.tensor(0.0, device=device))\n",
    "        g = h @ weight_list[i] + bias_list[i]\n",
    "    return g\n"
   ]
  },
  {
   "cell_type": "markdown",
   "metadata": {},
   "source": [
    "### Training the network"
   ]
  },
  {
   "cell_type": "code",
   "execution_count": 47,
   "metadata": {},
   "outputs": [
    {
     "name": "stdout",
     "output_type": "stream",
     "text": [
      "Epoch 1 | Test Loss: 7.022400856018066, Test Accuracy: 0.1149\n",
      "Epoch 2 | Test Loss: 0.42187952995300293, Test Accuracy: 0.8708\n",
      "Epoch 3 | Test Loss: 0.30567383766174316, Test Accuracy: 0.907\n",
      "Epoch 4 | Test Loss: 0.26732566952705383, Test Accuracy: 0.9214\n",
      "Epoch 5 | Test Loss: 0.22439154982566833, Test Accuracy: 0.932\n",
      "Epoch 6 | Test Loss: 0.20759551227092743, Test Accuracy: 0.9364\n",
      "Epoch 7 | Test Loss: 0.20153488218784332, Test Accuracy: 0.9399\n",
      "Epoch 8 | Test Loss: 0.19610805809497833, Test Accuracy: 0.9421\n",
      "Epoch 9 | Test Loss: 0.1800256073474884, Test Accuracy: 0.944\n",
      "Epoch 10 | Test Loss: 0.17727968096733093, Test Accuracy: 0.9484\n"
     ]
    }
   ],
   "source": [
    "losses = []\n",
    "accuracies = []\n",
    "\n",
    "for epoch in range(epoch_num):\n",
    "    # Compute the test loss and accuracy in the beginning of each epoch\n",
    "    test_loss_total = 0.0\n",
    "    correct_predictions = 0\n",
    "    total_samples = 0\n",
    "\n",
    "    with torch.no_grad():\n",
    "        for test_data, test_targets in test_loader:\n",
    "            # Move the tensors to GPU\n",
    "            test_data = test_data.to(device)\n",
    "            test_targets = test_targets.to(device)\n",
    "\n",
    "            flatten_test_data = torch.flatten(test_data, start_dim=1)\n",
    "            test_res = nn_forward(flatten_test_data, w_FC, bias_FC)\n",
    "\n",
    "            # Compute the loss\n",
    "            cross_entropy_loss = torch.nn.CrossEntropyLoss()\n",
    "            loss = cross_entropy_loss(test_res, test_targets)\n",
    "            test_loss_total += loss.item()\n",
    "            # print(loss.item())\n",
    "\n",
    "            # Compute the accuracy\n",
    "            predictions = torch.argmax(test_res, dim=1)\n",
    "            correct_predictions += (predictions == test_targets).sum().item()\n",
    "            total_samples += test_targets.size(0)\n",
    "\n",
    "    avg_test_loss = test_loss_total / len(test_loader) # average loss for one batch\n",
    "    accuracy = correct_predictions/total_samples\n",
    "\n",
    "    print(f'Epoch {epoch + 1} | Test Loss: {avg_test_loss}, Test Accuracy: {accuracy}')\n",
    "\n",
    "    losses.append(avg_test_loss)\n",
    "    accuracies.append(accuracy)\n",
    "\n",
    "    # Training\n",
    "    for batch_data, batch_targets in train_loader:\n",
    "\n",
    "        # Move the batch to GPU\n",
    "        batch_data = batch_data.to(device)\n",
    "        batch_targets = batch_targets.to(device)\n",
    "\n",
    "        # Initialize the grad\n",
    "        for w in w_FC:\n",
    "            w.grad = None\n",
    "        for b in bias_FC:\n",
    "            b.grad = None\n",
    "\n",
    "        # Forward Propagate\n",
    "        flatten_batch_data = torch.flatten(batch_data, start_dim=1)\n",
    "        output = nn_forward(flatten_batch_data, w_FC, bias_FC)\n",
    "\n",
    "        # Loss computing\n",
    "        cross_entropy_loss = torch.nn.CrossEntropyLoss()\n",
    "        target = batch_targets\n",
    "        loss = cross_entropy_loss(output, target)\n",
    "        loss.backward()\n",
    "\n",
    "        # Back Propagate\n",
    "        with torch.no_grad():\n",
    "            for w in w_FC:\n",
    "                w -= lr * w.grad\n",
    "            for b in bias_FC:\n",
    "                b -= lr * b.grad\n",
    "                "
   ]
  },
  {
   "cell_type": "code",
   "execution_count": 48,
   "metadata": {},
   "outputs": [
    {
     "data": {
      "image/png": "[encoded data removed]",
      "text/plain": [
       "<Figure size 1200x500 with 2 Axes>"
      ]
     },
     "metadata": {},
     "output_type": "display_data"
    }
   ],
   "source": [
    "import matplotlib.pyplot as plt\n",
    "\n",
    "epochs = range(1, epoch_num + 1)\n",
    "\n",
    "plt.figure(figsize=(12, 5))\n",
    "\n",
    "# 1) Plot the test loss\n",
    "plt.subplot(1, 2, 1)\n",
    "plt.plot(epochs, losses, 'r-o', label='Test Loss')\n",
    "plt.title('Test Loss')\n",
    "plt.xlabel('Epoch')\n",
    "plt.ylabel('Loss')\n",
    "plt.legend()\n",
    "\n",
    "# 2) Plot the test accuracy\n",
    "plt.subplot(1, 2, 2)\n",
    "plt.plot(epochs, accuracies, 'b-o', label='Test Accuracy')\n",
    "plt.title('Test Accuracy')\n",
    "plt.xlabel('Epoch')\n",
    "plt.ylabel('Accuracy')\n",
    "plt.legend()\n",
    "\n",
    "plt.tight_layout()\n",
    "plt.show()"
   ]
  },
  {
   "cell_type": "markdown",
   "metadata": {},
   "source": [
    "## Experiment 3\n",
    "10 FC layers + Normalization"
   ]
  },
  {
   "cell_type": "code",
   "execution_count": 50,
   "metadata": {},
   "outputs": [],
   "source": [
    "train_batch_size = 100\n",
    "test_batch_size = 10000\n",
    "epoch_num = 10\n",
    "lr = 1\n",
    "num_hidden_layers = 8"
   ]
  },
  {
   "cell_type": "code",
   "execution_count": 51,
   "metadata": {},
   "outputs": [
    {
     "name": "stdout",
     "output_type": "stream",
     "text": [
      "Using device: cuda\n",
      "2.5.1\n"
     ]
    }
   ],
   "source": [
    "from torchvision import transforms, datasets\n",
    "\n",
    "train_set = datasets.MNIST('./', download=True,\n",
    "transform=transforms.Compose([\n",
    "transforms.ToTensor(),\n",
    "]), train=True)\n",
    "\n",
    "test_set = datasets.MNIST('./', download=True,\n",
    "transform=transforms.Compose([\n",
    "transforms.ToTensor(),\n",
    "]), train=False)\n",
    "\n",
    "\n",
    "import torch\n",
    "from torch.utils.data import DataLoader\n",
    "\n",
    "device = torch.device('cuda')\n",
    "print(\"Using device:\", device)\n",
    "print(torch.__version__)\n",
    "\n",
    "train_loader = DataLoader(train_set, batch_size=train_batch_size, shuffle=True)\n",
    "test_loader = DataLoader(test_set, batch_size=test_batch_size, shuffle=False)\n",
    "\n",
    "\n",
    "w_FC = []\n",
    "bias_FC = []\n",
    "\n",
    "w_FC.append(torch.randn((784, 100), requires_grad=True, device=device))\n",
    "bias_FC.append(torch.randn(100, requires_grad=True, device=device))\n",
    "\n",
    "for _ in range(num_hidden_layers):\n",
    "    w_FC.append(torch.randn((100, 100), requires_grad=True, device=device))\n",
    "    bias_FC.append(torch.randn(100, requires_grad=True, device=device))\n",
    "\n",
    "w_FC.append(torch.randn((100, 10), requires_grad=True, device=device))\n",
    "bias_FC.append(torch.randn(10, requires_grad=True, device=device))\n",
    "\n",
    "\n",
    "# # To solve the explosion of the cross entropy loss\n",
    "# for w in w_FC:\n",
    "#     torch.nn.init.kaiming_normal_(w, a=0, nonlinearity='relu') # If not using this, the loss function will explode.\n",
    "# for b in bias_FC:\n",
    "#     b.data.fill_(0)"
   ]
  },
  {
   "cell_type": "code",
   "execution_count": 52,
   "metadata": {},
   "outputs": [],
   "source": [
    "def nn_forward_normalized(input, weight_list, bias_list):\n",
    "    epsilon = 1e-6\n",
    "    input = (input - torch.mean(input=input, dim=1, keepdim=True))/(torch.std(input=input, dim=1, keepdim=True) + epsilon)\n",
    "    g = input @ weight_list[0] + bias_list[0]\n",
    "    for i in range(1, len(weight_list)):\n",
    "        h = torch.maximum(g, torch.tensor(0.0, device=device))\n",
    "        h = (h - torch.mean(input=h, dim=1, keepdim=True))/(torch.std(input=h, dim=1, keepdim=True) + epsilon)\n",
    "        g = h @ weight_list[i] + bias_list[i]\n",
    "    return g"
   ]
  },
  {
   "cell_type": "code",
   "execution_count": 53,
   "metadata": {},
   "outputs": [
    {
     "name": "stdout",
     "output_type": "stream",
     "text": [
      "Epoch 1 | Test Loss: 13.881567001342773, Test Accuracy: 0.1095\n",
      "Epoch 2 | Test Loss: 0.3562892973423004, Test Accuracy: 0.8985\n",
      "Epoch 3 | Test Loss: 0.31511634588241577, Test Accuracy: 0.9132\n",
      "Epoch 4 | Test Loss: 0.21623459458351135, Test Accuracy: 0.9371\n",
      "Epoch 5 | Test Loss: 0.1934605985879898, Test Accuracy: 0.946\n",
      "Epoch 6 | Test Loss: 0.1830507516860962, Test Accuracy: 0.9473\n",
      "Epoch 7 | Test Loss: 0.18972036242485046, Test Accuracy: 0.9506\n",
      "Epoch 8 | Test Loss: 0.2066999077796936, Test Accuracy: 0.9454\n",
      "Epoch 9 | Test Loss: 0.1764010190963745, Test Accuracy: 0.957\n",
      "Epoch 10 | Test Loss: 0.18425193428993225, Test Accuracy: 0.9547\n"
     ]
    }
   ],
   "source": [
    "losses = []\n",
    "accuracies = []\n",
    "\n",
    "for epoch in range(epoch_num):\n",
    "    # Compute the test loss and accuracy in the beginning of each epoch\n",
    "    test_loss_total = 0.0\n",
    "    correct_predictions = 0\n",
    "    total_samples = 0\n",
    "\n",
    "    with torch.no_grad():\n",
    "        for test_data, test_targets in test_loader:\n",
    "            # Move the tensors to GPU\n",
    "            test_data = test_data.to(device)\n",
    "            test_targets = test_targets.to(device)\n",
    "\n",
    "            flatten_test_data = torch.flatten(test_data, start_dim=1)\n",
    "            test_res = nn_forward_normalized(flatten_test_data, w_FC, bias_FC)\n",
    "\n",
    "            # Compute the loss\n",
    "            cross_entropy_loss = torch.nn.CrossEntropyLoss()\n",
    "            loss = cross_entropy_loss(test_res, test_targets)\n",
    "            test_loss_total += loss.item()\n",
    "            # print(loss.item())\n",
    "\n",
    "            # Compute the accuracy\n",
    "            predictions = torch.argmax(test_res, dim=1)\n",
    "            correct_predictions += (predictions == test_targets).sum().item()\n",
    "            total_samples += test_targets.size(0)\n",
    "\n",
    "    avg_test_loss = test_loss_total / len(test_loader) # average loss for one batch\n",
    "    accuracy = correct_predictions/total_samples\n",
    "\n",
    "    print(f'Epoch {epoch + 1} | Test Loss: {avg_test_loss}, Test Accuracy: {accuracy}')\n",
    "\n",
    "    losses.append(avg_test_loss)\n",
    "    accuracies.append(accuracy)\n",
    "\n",
    "    # Training\n",
    "    for batch_data, batch_targets in train_loader:\n",
    "\n",
    "        # Move the batch to GPU\n",
    "        batch_data = batch_data.to(device)\n",
    "        batch_targets = batch_targets.to(device)\n",
    "\n",
    "        # Initialize the grad\n",
    "        for w in w_FC:\n",
    "            w.grad = None\n",
    "        for b in bias_FC:\n",
    "            b.grad = None\n",
    "\n",
    "        # Forward Propagate\n",
    "        flatten_batch_data = torch.flatten(batch_data, start_dim=1)\n",
    "        output = nn_forward_normalized(flatten_batch_data, w_FC, bias_FC)\n",
    "\n",
    "        # Loss computing\n",
    "        cross_entropy_loss = torch.nn.CrossEntropyLoss()\n",
    "        target = batch_targets\n",
    "        loss = cross_entropy_loss(output, target)\n",
    "        loss.backward()\n",
    "\n",
    "        # Back Propagate\n",
    "        with torch.no_grad():\n",
    "            for w in w_FC:\n",
    "                w -= lr * w.grad\n",
    "            for b in bias_FC:\n",
    "                b -= lr * b.grad"
   ]
  },
  {
   "cell_type": "code",
   "execution_count": 54,
   "metadata": {},
   "outputs": [
    {
     "data": {
      "image/png": "[encoded data removed]",
      "text/plain": [
       "<Figure size 1200x500 with 2 Axes>"
      ]
     },
     "metadata": {},
     "output_type": "display_data"
    }
   ],
   "source": [
    "import matplotlib.pyplot as plt\n",
    "\n",
    "epochs = range(1, epoch_num + 1)\n",
    "\n",
    "plt.figure(figsize=(12, 5))\n",
    "\n",
    "# 1) Plot the test loss\n",
    "plt.subplot(1, 2, 1)\n",
    "plt.plot(epochs, losses, 'r-o', label='Test Loss')\n",
    "plt.title('Test Loss')\n",
    "plt.xlabel('Epoch')\n",
    "plt.ylabel('Loss')\n",
    "plt.legend()\n",
    "\n",
    "# 2) Plot the test accuracy\n",
    "plt.subplot(1, 2, 2)\n",
    "plt.plot(epochs, accuracies, 'b-o', label='Test Accuracy')\n",
    "plt.title('Test Accuracy')\n",
    "plt.xlabel('Epoch')\n",
    "plt.ylabel('Accuracy')\n",
    "plt.legend()\n",
    "\n",
    "plt.tight_layout()\n",
    "plt.show()"
   ]
  },
  {
   "cell_type": "markdown",
   "metadata": {},
   "source": [
    "## Discussion"
   ]
  },
  {
   "cell_type": "markdown",
   "metadata": {},
   "source": [
    "In Experiment 1, the network structure is rather simple. Here, a very large learning rate leads to a good converge, which indicates a very small smoothness L of the loss function.\n",
    "\n",
    "In Experiment 2, for a large learning rate, the loss function explode very quickly in one or two iteration. This might due to two possible reasons: \n",
    "1) when we have a deep network, there might be issues of gradient vanishing/exploding because of the chain rule. In this case, we may observed a gradient exploding.\n",
    "2) when reduce the learning rate, it actually prevent the loss function from explosion, this might indicate a very large smoothness L to the loss function. When we have a deeper ReLU network, this will lead to a lot more piecewise linear structures in the input space. Even though the loss function is not linear, it is also structured by the same piecewise feature which is governed by the activation and de-activation of ReLU functions. This may create a very unsmooth landscape to the loss function.\n",
    "\n",
    "After applying Kaming Initialization, the issue we observed in Experiment 2 disappeared. I am personally very interested in the reason, which I so far don't have a conclusion and I will spend some time investigate on what Kaiming Initialization contribute to the landscape of the loss function.\n",
    "\n",
    "In Experiment 3, after applying the layer normalization, the issue we observed in Experiment 2 disappeared. This is reasonable since layer norm is a very common approach to deal with gradient exploding/vanishing. \n",
    "\n",
    "\n",
    "\n"
   ]
  }
 ],
 "metadata": {
  "kernelspec": {
   "display_name": "base",
   "language": "python",
   "name": "python3"
  },
  "language_info": {
   "codemirror_mode": {
    "name": "ipython",
    "version": 3
   },
   "file_extension": ".py",
   "mimetype": "text/x-python",
   "name": "python",
   "nbconvert_exporter": "python",
   "pygments_lexer": "ipython3",
   "version": "3.12.3"
  }
 },
 "nbformat": 4,
 "nbformat_minor": 2
}
